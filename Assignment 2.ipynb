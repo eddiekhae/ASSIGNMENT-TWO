{
 "cells": [
  {
   "cell_type": "code",
   "execution_count": 1,
   "id": "f433cd2b-f113-44a1-9d6e-e6547ef3d890",
   "metadata": {},
   "outputs": [],
   "source": [
    "#IMPORT THE IMPORTANT LIBRARIES \n",
    "import pandas as pd\n",
    "import csv \n",
    "import zipfile"
   ]
  },
  {
   "cell_type": "code",
   "execution_count": 4,
   "id": "43cec253-aba3-4900-a4cf-645e0b5b1ef3",
   "metadata": {},
   "outputs": [
    {
     "name": "stdout",
     "output_type": "stream",
     "text": [
      "        EmployeeName                                        JobTitle  \\\n",
      "0     NATHANIEL FORD  GENERAL MANAGER-METROPOLITAN TRANSIT AUTHORITY   \n",
      "1       GARY JIMENEZ                 CAPTAIN III (POLICE DEPARTMENT)   \n",
      "2     ALBERT PARDINI                 CAPTAIN III (POLICE DEPARTMENT)   \n",
      "3  CHRISTOPHER CHONG            WIRE ROPE CABLE MAINTENANCE MECHANIC   \n",
      "4    PATRICK GARDNER    DEPUTY CHIEF OF DEPARTMENT,(FIRE DEPARTMENT)   \n",
      "5     DAVID SULLIVAN                       ASSISTANT DEPUTY CHIEF II   \n",
      "\n",
      "     BasePay OvertimePay   OtherPay      Benefits   TotalPay  \\\n",
      "0  167411.18         0.0  400184.25  Not Provided  567595.43   \n",
      "1  155966.02   245131.88  137811.38  Not Provided  538909.28   \n",
      "2  212739.13   106088.18    16452.6  Not Provided  335279.91   \n",
      "3    77916.0    56120.71   198306.9  Not Provided  332343.61   \n",
      "4   134401.6      9737.0  182234.59  Not Provided  326373.19   \n",
      "5   118602.0      8601.0  189082.74  Not Provided  316285.74   \n",
      "\n",
      "   TotalPayBenefits  Year  \n",
      "0         567595.43  2011  \n",
      "1         538909.28  2011  \n",
      "2         335279.91  2011  \n",
      "3         332343.61  2011  \n",
      "4         326373.19  2011  \n",
      "5         316285.74  2011  \n"
     ]
    },
    {
     "name": "stderr",
     "output_type": "stream",
     "text": [
      "C:\\Users\\GADGET STORE\\AppData\\Local\\Temp\\ipykernel_2520\\1748883088.py:1: DtypeWarning: Columns (2,3,4,5) have mixed types. Specify dtype option on import or set low_memory=False.\n",
      "  salary_data= pd.read_csv(\"C:/brotherman/Total.csv\")\n"
     ]
    },
    {
     "data": {
      "text/plain": [
       "pandas.core.frame.DataFrame"
      ]
     },
     "execution_count": 4,
     "metadata": {},
     "output_type": "execute_result"
    }
   ],
   "source": [
    "#IMPORT THE DATA INTO PYTHON\n",
    "salary_data= pd.read_csv(\"C:/brotherman/Total.csv\")\n",
    "#Viewing the first 5 observations of the data \n",
    "print(salary_data[:6])\n",
    "#Determininng the type of data that has been imported\n",
    "type(salary_data)"
   ]
  },
  {
   "cell_type": "code",
   "execution_count": 5,
   "id": "ea61a03d-f387-408e-befa-c852f2b7d7a5",
   "metadata": {},
   "outputs": [
    {
     "name": "stdout",
     "output_type": "stream",
     "text": [
      "{'EmployeeName': 'NATHANIEL FORD', 'JobTitle': 'GENERAL MANAGER-METROPOLITAN TRANSIT AUTHORITY', 'BasePay': 167411.18, 'OvertimePay': 0.0, 'OtherPay': 400184.25, 'Benefits': 'Not Provided', 'TotalPay': 567595.43, 'TotalPayBenefits': 567595.43, 'Year': 2011}\n"
     ]
    }
   ],
   "source": [
    "def get_employee_details(name, data):\n",
    "    try:\n",
    "        employee = data.loc[data['EmployeeName'].str.lower() == name.lower()]\n",
    "        if not employee.empty:\n",
    "            return employee.iloc[0].to_dict()\n",
    "        else:\n",
    "            raise ValueError(f\"No employee found with name: {name}\")\n",
    "    except Exception as e:\n",
    "        print(f\"Error: {e}\")\n",
    "        return None\n",
    "\n",
    "# Example usage\n",
    "employee_details = get_employee_details('NATHANIEL FORD', salary_data)\n",
    "print(employee_details)\n"
   ]
  },
  {
   "cell_type": "code",
   "execution_count": 9,
   "id": "5ff6dbc2-0edc-4b78-86b2-e5f43e37435d",
   "metadata": {},
   "outputs": [
    {
     "name": "stderr",
     "output_type": "stream",
     "text": [
      "C:\\Users\\GADGET STORE\\AppData\\Local\\Temp\\ipykernel_2520\\178468991.py:1: UserWarning: DataFrame columns are not unique, some columns will be omitted.\n",
      "  salary_dict = salary_data.set_index('EmployeeName').T.to_dict()\n",
      "IOPub data rate exceeded.\n",
      "The Jupyter server will temporarily stop sending output\n",
      "to the client in order to avoid crashing it.\n",
      "To change this limit, set the config variable\n",
      "`--ServerApp.iopub_data_rate_limit`.\n",
      "\n",
      "Current values:\n",
      "ServerApp.iopub_data_rate_limit=1000000.0 (bytes/sec)\n",
      "ServerApp.rate_limit_window=3.0 (secs)\n",
      "\n"
     ]
    }
   ],
   "source": [
    "salary_dict = salary_data.set_index('EmployeeName').T.to_dict()\n",
    "print (salary_dict)"
   ]
  },
  {
   "cell_type": "code",
   "execution_count": 11,
   "id": "ab44f7f7-1f84-41b6-92b8-d2587669a5dd",
   "metadata": {},
   "outputs": [
    {
     "name": "stdout",
     "output_type": "stream",
     "text": [
      "Details exported to employee_details.csv and zipped as Employee_Profile.zip\n"
     ]
    }
   ],
   "source": [
    "def export_and_zip_employee_details(employee_details, csv_name='employee_details.csv', zip_name='Employee_Profile.zip'):\n",
    "    if employee_details:\n",
    "        with open(csv_name, 'w', newline='') as file:\n",
    "            writer = csv.DictWriter(file, fieldnames=employee_details.keys())\n",
    "            writer.writeheader()\n",
    "            writer.writerow(employee_details)\n",
    "        \n",
    "        with zipfile.ZipFile(zip_name, 'w') as zipf:\n",
    "            zipf.write(csv_name)\n",
    "        \n",
    "        print(f\"Details exported to {csv_name} and zipped as {zip_name}\")\n",
    "    else:\n",
    "        print(\"No employee details to export\")\n",
    "\n",
    "# Example usage\n",
    "export_and_zip_employee_details(employee_details)"
   ]
  },
  {
   "cell_type": "code",
   "execution_count": null,
   "id": "7f508bf1-fe5a-4b20-a0c2-3a3bacdac041",
   "metadata": {},
   "outputs": [],
   "source": []
  }
 ],
 "metadata": {
  "kernelspec": {
   "display_name": "Python 3 (ipykernel)",
   "language": "python",
   "name": "python3"
  },
  "language_info": {
   "codemirror_mode": {
    "name": "ipython",
    "version": 3
   },
   "file_extension": ".py",
   "mimetype": "text/x-python",
   "name": "python",
   "nbconvert_exporter": "python",
   "pygments_lexer": "ipython3",
   "version": "3.11.7"
  }
 },
 "nbformat": 4,
 "nbformat_minor": 5
}
